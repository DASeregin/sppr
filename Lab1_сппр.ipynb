{
 "cells": [
  {
   "cell_type": "markdown",
   "source": [
    "# Решение транспортной задачи\n",
    "###### Вариант 17"
   ],
   "metadata": {
    "collapsed": false,
    "pycharm": {
     "name": "#%% md\n"
    }
   }
  },
  {
   "cell_type": "code",
   "execution_count": 1,
   "metadata": {
    "collapsed": true,
    "pycharm": {
     "name": "#%%\n"
    }
   },
   "outputs": [
    {
     "name": "stdout",
     "output_type": "stream",
     "text": [
      "GLPK Simplex Optimizer, v4.65\n",
      "35 rows, 25 columns, 75 non-zeros\n",
      "      0: obj =   0.000000000e+00 inf =   6.000e+02 (5)\n",
      "      8: obj =   2.500000000e+03 inf =   0.000e+00 (0)\n",
      "*    27: obj =   1.850000000e+03 inf =   0.000e+00 (0)\n",
      "OPTIMAL LP SOLUTION FOUND\n",
      "Result: [ 0.00e+00]\n",
      "[ 0.00e+00]\n",
      "[ 0.00e+00]\n",
      "[ 0.00e+00]\n",
      "[ 5.00e+01]\n",
      "[ 0.00e+00]\n",
      "[ 1.00e+02]\n",
      "[ 0.00e+00]\n",
      "[ 0.00e+00]\n",
      "[ 0.00e+00]\n",
      "[ 0.00e+00]\n",
      "[ 5.00e+01]\n",
      "[ 0.00e+00]\n",
      "[ 1.00e+02]\n",
      "[ 0.00e+00]\n",
      "[ 0.00e+00]\n",
      "[ 0.00e+00]\n",
      "[ 0.00e+00]\n",
      "[ 0.00e+00]\n",
      "[ 1.00e+02]\n",
      "[ 1.00e+02]\n",
      "[ 0.00e+00]\n",
      "[ 0.00e+00]\n",
      "[ 0.00e+00]\n",
      "[ 1.00e+02]\n",
      "\n",
      "Price: 1850.0\n",
      "0.5967159271240234\n"
     ]
    }
   ],
   "source": [
    "import time\n",
    "from cvxopt.modeling import variable, op\n",
    "'''100 150 150 100 300\n",
    "50 3 4 5 4 1\n",
    "100 1 2 7 1 5\n",
    "150 4 6 6 3 7\n",
    "100 2 7 4 7 2\n",
    "200 3 8 9 4 5'''\n",
    "start = time.time()\n",
    "x = variable(25, \"x\")\n",
    "z = (3*x[0]+4*x[1]+5*x[2]+4*x[3]+1*x[4]+1*x[5]+2*x[6]+7*x[7]+1*x[8]+5*x[9]+4*x[10]+6*x[11]+6*x[12]+3*x[13]+7*x[14]+2*x[15]+7*x[16]+4*x[17]+7*x[18]+2*x[19]+3*x[20]+8*x[21]+9*x[22]+4*x[23]+5*x[24])\n",
    "mass1 =(x[0]+x[1]+x[2]+x[3]+x[4]==50)\n",
    "mass2 =(x[5]+x[6]+x[7]+x[8]+x[9]==100)\n",
    "mass3 =(x[10]+x[11]+x[12]+x[13]+x[14]==150)\n",
    "mass4 =(x[15]+x[16]+x[17]+x[18]+x[19]==100)\n",
    "mass5 =(x[20]+x[21]+x[22]+x[23]+x[24]==200)\n",
    "mass6 =(x[0]+x[5]+x[10]+x[15]+x[20]<=100)\n",
    "mass7 =(x[1]+x[6]+x[11]+x[16]+x[21]<=150)\n",
    "mass8 =(x[2]+x[7]+x[12]+x[17]+x[22]<=150)\n",
    "mass9 =(x[3]+x[8]+x[13]+x[18]+x[23]<=100)\n",
    "mass10 =(x[4]+x[9]+x[14]+x[19]+x[24]<=300)\n",
    "\n",
    "x_non_negative = (x>=0)\n",
    "problem = op(z,[mass1,mass2,mass3,mass4,mass5,mass6,mass7,mass8,mass9,mass10,x_non_negative])\n",
    "problem.solve(solver=\"glpk\")\n",
    "problem.status\n",
    "print(\"Result: {}\".format(x.value))\n",
    "print(\"Price: {}\".format(problem.objective.value()[0]))\n",
    "stop = time.time()\n",
    "print(stop-start)"
   ]
  },
  {
   "cell_type": "code",
   "execution_count": 2,
   "outputs": [
    {
     "data": {
      "text/plain": "'matrix: [[11  5  7  0  1]\\n[ 4  1  1  0  3]\\n[10 12  7  5 10]\\n[11 11  8 12  0]\\n[ 0  4  0  9 10]]\"\\tP = ([0.0, 0.0, 0.69, 0.29, 0.02])\\tQ=([0.0, 0.0, 0.25, 0.43, 0.33])'"
     },
     "execution_count": 2,
     "metadata": {},
     "output_type": "execute_result"
    }
   ],
   "source": [
    "'''matrix: [[11  5  7  0  1]\n",
    "[ 4  1  1  0  3]\n",
    "[10 12  7  5 10]\n",
    "[11 11  8 12  0]\n",
    "[ 0  4  0  9 10]]\"\tP = ([0.0, 0.0, 0.69, 0.29, 0.02])\tQ=([0.0, 0.0, 0.25, 0.43, 0.33])'''"
   ],
   "metadata": {
    "collapsed": false,
    "pycharm": {
     "name": "#%%\n"
    }
   }
  },
  {
   "cell_type": "markdown",
   "source": [
    "# Матричная игра\n",
    "###### Вариант 17"
   ],
   "metadata": {
    "collapsed": false,
    "pycharm": {
     "name": "#%% md\n"
    }
   }
  },
  {
   "cell_type": "code",
   "execution_count": 3,
   "outputs": [],
   "source": [
    "import numpy as np\n",
    "matrix = np.array([[11,  5,  7,  0,  1],\n",
    "                   [ 4,  1,  1,  0,  3],\n",
    "[10, 12,  7,  5, 10],\n",
    "[11, 11,  8, 12,  0],\n",
    "[ 0,  4,  0,  9, 10]])\n",
    "P = [0.0, 0.0, 0.69, 0.29, 0.02]\n",
    "Q = [0.0, 0.0, 0.25, 0.43, 0.33]"
   ],
   "metadata": {
    "collapsed": false,
    "pycharm": {
     "name": "#%%\n"
    }
   }
  },
  {
   "cell_type": "code",
   "execution_count": 4,
   "outputs": [
    {
     "name": "stdout",
     "output_type": "stream",
     "text": [
      "5 8\n",
      "7.187799999999999\n"
     ]
    }
   ],
   "source": [
    "alpha = max(matrix.min(axis = 1))\n",
    "betta = min(matrix.max(axis = 0))\n",
    "print(alpha,betta)\n",
    "Ha=0\n",
    "for i in range(5):\n",
    "    for j in range(5):\n",
    "        Ha += matrix[i][j] * P[i] * Q[j]\n",
    "print(Ha)"
   ],
   "metadata": {
    "collapsed": false,
    "pycharm": {
     "name": "#%%\n"
    }
   }
  },
  {
   "cell_type": "code",
   "execution_count": 5,
   "outputs": [
    {
     "name": "stdout",
     "output_type": "stream",
     "text": [
      "[10.09, 11.549999999999999, 7.15, 7.109999999999999, 7.1]\n"
     ]
    }
   ],
   "source": [
    "strat = [0] * 5\n",
    "for i in range(5):\n",
    "    for j in range(5):\n",
    "        strat[j] += P[i]*matrix[i][j]\n",
    "print(strat)"
   ],
   "metadata": {
    "collapsed": false,
    "pycharm": {
     "name": "#%%\n"
    }
   }
  },
  {
   "cell_type": "code",
   "execution_count": 5,
   "outputs": [],
   "source": [],
   "metadata": {
    "collapsed": false,
    "pycharm": {
     "name": "#%%\n"
    }
   }
  }
 ],
 "metadata": {
  "kernelspec": {
   "display_name": "Python 3",
   "language": "python",
   "name": "python3"
  },
  "language_info": {
   "codemirror_mode": {
    "name": "ipython",
    "version": 2
   },
   "file_extension": ".py",
   "mimetype": "text/x-python",
   "name": "python",
   "nbconvert_exporter": "python",
   "pygments_lexer": "ipython2",
   "version": "2.7.6"
  }
 },
 "nbformat": 4,
 "nbformat_minor": 0
}